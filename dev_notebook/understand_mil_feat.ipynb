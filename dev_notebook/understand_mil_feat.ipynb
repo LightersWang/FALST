{
 "cells": [
  {
   "cell_type": "code",
   "execution_count": 1,
   "metadata": {},
   "outputs": [
    {
     "name": "stdout",
     "output_type": "stream",
     "text": [
      "train\n",
      "train_all_patches.shape: (568842, 1024)\n",
      "\tNaN: 0\n",
      "train_patch_corresponding_slide_label.shape: (568842,)\n",
      "train_patch_corresponding_slide_index.shape: (568842,)\n",
      "train_patch_corresponding_slide_name.shape: (568842,)\n",
      "train_patch_label.shape: (568842,)\n",
      "\n",
      "[DATA INFO] num_slide is 251; num_patches is 568842\n",
      "[DATA INFO] #pos_slide is 92, #neg_slide is 159\n"
     ]
    }
   ],
   "source": [
    "import os\n",
    "import h5py\n",
    "import numpy as np\n",
    "\n",
    "save_path = \"/media/temp/DATA21/Project_FAST/CODE/MIL_CLIP_Adapter/output_CAMELYON_feat_224x224_5x_CLIP(RN50)\"\n",
    "for split in ['train']:\n",
    "    all_patches = np.array(h5py.File(os.path.join(save_path, f\"{split}_patch_feat.h5\"), 'r')['dataset_1'])\n",
    "    patch_corresponding_slide_label = np.load(os.path.join(save_path, f\"{split}_patch_corresponding_slide_label.npy\"))\n",
    "    patch_corresponding_slide_index = np.load(os.path.join(save_path, f\"{split}_patch_corresponding_slide_index.npy\"))\n",
    "    patch_corresponding_slide_name = np.load(os.path.join(save_path, f\"{split}_patch_corresponding_slide_name.npy\"))\n",
    "    patch_label = np.load(os.path.join(save_path, f\"{split}_patch_label.npy\"))\n",
    "\n",
    "    print(split)\n",
    "    print(f'{split}_all_patches.shape:', all_patches.shape)\n",
    "    print('\\tNaN:', np.isnan(all_patches).sum())\n",
    "    print(f'{split}_patch_corresponding_slide_label.shape:', patch_corresponding_slide_label.shape)\n",
    "    print(f'{split}_patch_corresponding_slide_index.shape:', patch_corresponding_slide_index.shape)\n",
    "    print(f'{split}_patch_corresponding_slide_name.shape:', patch_corresponding_slide_name.shape)\n",
    "    print(f'{split}_patch_label.shape:', patch_label.shape)\n",
    "    print()\n",
    "\n",
    "    num_patches = all_patches.shape[0]\n",
    "    num_slides = patch_corresponding_slide_index.max() + 1\n",
    "\n",
    "    # 2. sort instances features into bag\n",
    "    slide_feat_all = []\n",
    "    slide_label_all = []\n",
    "    slide_patch_label_all = []\n",
    "    for i in range(num_slides):\n",
    "        idx_from_same_slide = patch_corresponding_slide_index == i\n",
    "        idx_from_same_slide = np.nonzero(idx_from_same_slide)[0]\n",
    "\n",
    "        slide_feat_all.append(all_patches[idx_from_same_slide])\n",
    "        if (patch_corresponding_slide_label[idx_from_same_slide].max() != \n",
    "            patch_corresponding_slide_label[idx_from_same_slide].min()):\n",
    "            raise\n",
    "        slide_label_all.append(patch_corresponding_slide_label[idx_from_same_slide].max())\n",
    "        slide_patch_label_all.append(patch_label[idx_from_same_slide])\n",
    "    print(f\"[DATA INFO] num_slide is {num_slides}; num_patches is {num_patches}\")\n",
    "    print(f\"[DATA INFO] #pos_slide is {sum(slide_label_all)}, #neg_slide is {len(slide_label_all) - sum(slide_label_all)}\")"
   ]
  },
  {
   "cell_type": "code",
   "execution_count": 2,
   "metadata": {},
   "outputs": [
    {
     "name": "stdout",
     "output_type": "stream",
     "text": [
      "251 251 251\n",
      "Slide Feature: (4155, 1024)\t Slide Label: 0\t Slide Patch Label: (4155,)\t\n",
      "Slide Feature: (756, 1024)\t Slide Label: 0\t Slide Patch Label: (756,)\t\n",
      "Slide Feature: (2179, 1024)\t Slide Label: 0\t Slide Patch Label: (2179,)\t\n",
      "Slide Feature: (1971, 1024)\t Slide Label: 1\t Slide Patch Label: (1971,)\t\n",
      "Slide Feature: (1583, 1024)\t Slide Label: 0\t Slide Patch Label: (1583,)\t\n",
      "Slide Feature: (5383, 1024)\t Slide Label: 1\t Slide Patch Label: (5383,)\t\n",
      "Slide Feature: (600, 1024)\t Slide Label: 0\t Slide Patch Label: (600,)\t\n",
      "Slide Feature: (2637, 1024)\t Slide Label: 0\t Slide Patch Label: (2637,)\t\n",
      "Slide Feature: (1923, 1024)\t Slide Label: 0\t Slide Patch Label: (1923,)\t\n",
      "Slide Feature: (1821, 1024)\t Slide Label: 0\t Slide Patch Label: (1821,)\t\n",
      "Slide Feature: (1623, 1024)\t Slide Label: 0\t Slide Patch Label: (1623,)\t\n",
      "Slide Feature: (608, 1024)\t Slide Label: 1\t Slide Patch Label: (608,)\t\n",
      "Slide Feature: (913, 1024)\t Slide Label: 1\t Slide Patch Label: (913,)\t\n",
      "Slide Feature: (2991, 1024)\t Slide Label: 0\t Slide Patch Label: (2991,)\t\n",
      "Slide Feature: (1508, 1024)\t Slide Label: 0\t Slide Patch Label: (1508,)\t\n",
      "Slide Feature: (1679, 1024)\t Slide Label: 0\t Slide Patch Label: (1679,)\t\n",
      "Slide Feature: (973, 1024)\t Slide Label: 0\t Slide Patch Label: (973,)\t\n",
      "Slide Feature: (1111, 1024)\t Slide Label: 0\t Slide Patch Label: (1111,)\t\n",
      "Slide Feature: (3072, 1024)\t Slide Label: 1\t Slide Patch Label: (3072,)\t\n",
      "Slide Feature: (2788, 1024)\t Slide Label: 0\t Slide Patch Label: (2788,)\t\n",
      "Slide Feature: (602, 1024)\t Slide Label: 0\t Slide Patch Label: (602,)\t\n",
      "Slide Feature: (1428, 1024)\t Slide Label: 1\t Slide Patch Label: (1428,)\t\n",
      "Slide Feature: (1840, 1024)\t Slide Label: 0\t Slide Patch Label: (1840,)\t\n",
      "Slide Feature: (1006, 1024)\t Slide Label: 1\t Slide Patch Label: (1006,)\t\n",
      "Slide Feature: (308, 1024)\t Slide Label: 0\t Slide Patch Label: (308,)\t\n",
      "Slide Feature: (4015, 1024)\t Slide Label: 1\t Slide Patch Label: (4015,)\t\n",
      "Slide Feature: (1544, 1024)\t Slide Label: 1\t Slide Patch Label: (1544,)\t\n",
      "Slide Feature: (1281, 1024)\t Slide Label: 1\t Slide Patch Label: (1281,)\t\n",
      "Slide Feature: (391, 1024)\t Slide Label: 0\t Slide Patch Label: (391,)\t\n",
      "Slide Feature: (2302, 1024)\t Slide Label: 1\t Slide Patch Label: (2302,)\t\n",
      "Slide Feature: (2659, 1024)\t Slide Label: 0\t Slide Patch Label: (2659,)\t\n",
      "Slide Feature: (4230, 1024)\t Slide Label: 1\t Slide Patch Label: (4230,)\t\n",
      "Slide Feature: (475, 1024)\t Slide Label: 0\t Slide Patch Label: (475,)\t\n",
      "Slide Feature: (5618, 1024)\t Slide Label: 0\t Slide Patch Label: (5618,)\t\n",
      "Slide Feature: (3373, 1024)\t Slide Label: 1\t Slide Patch Label: (3373,)\t\n",
      "Slide Feature: (2039, 1024)\t Slide Label: 1\t Slide Patch Label: (2039,)\t\n",
      "Slide Feature: (3244, 1024)\t Slide Label: 0\t Slide Patch Label: (3244,)\t\n",
      "Slide Feature: (3075, 1024)\t Slide Label: 0\t Slide Patch Label: (3075,)\t\n",
      "Slide Feature: (2575, 1024)\t Slide Label: 1\t Slide Patch Label: (2575,)\t\n",
      "Slide Feature: (1274, 1024)\t Slide Label: 0\t Slide Patch Label: (1274,)\t\n",
      "Slide Feature: (2847, 1024)\t Slide Label: 1\t Slide Patch Label: (2847,)\t\n",
      "Slide Feature: (1329, 1024)\t Slide Label: 0\t Slide Patch Label: (1329,)\t\n",
      "Slide Feature: (164, 1024)\t Slide Label: 0\t Slide Patch Label: (164,)\t\n",
      "Slide Feature: (1250, 1024)\t Slide Label: 1\t Slide Patch Label: (1250,)\t\n",
      "Slide Feature: (781, 1024)\t Slide Label: 0\t Slide Patch Label: (781,)\t\n",
      "Slide Feature: (3313, 1024)\t Slide Label: 0\t Slide Patch Label: (3313,)\t\n",
      "Slide Feature: (3419, 1024)\t Slide Label: 0\t Slide Patch Label: (3419,)\t\n",
      "Slide Feature: (3250, 1024)\t Slide Label: 1\t Slide Patch Label: (3250,)\t\n",
      "Slide Feature: (501, 1024)\t Slide Label: 0\t Slide Patch Label: (501,)\t\n",
      "Slide Feature: (7025, 1024)\t Slide Label: 1\t Slide Patch Label: (7025,)\t\n",
      "Slide Feature: (4808, 1024)\t Slide Label: 1\t Slide Patch Label: (4808,)\t\n",
      "Slide Feature: (1700, 1024)\t Slide Label: 1\t Slide Patch Label: (1700,)\t\n",
      "Slide Feature: (394, 1024)\t Slide Label: 1\t Slide Patch Label: (394,)\t\n",
      "Slide Feature: (595, 1024)\t Slide Label: 0\t Slide Patch Label: (595,)\t\n",
      "Slide Feature: (850, 1024)\t Slide Label: 0\t Slide Patch Label: (850,)\t\n",
      "Slide Feature: (1402, 1024)\t Slide Label: 1\t Slide Patch Label: (1402,)\t\n",
      "Slide Feature: (2495, 1024)\t Slide Label: 0\t Slide Patch Label: (2495,)\t\n",
      "Slide Feature: (2219, 1024)\t Slide Label: 0\t Slide Patch Label: (2219,)\t\n",
      "Slide Feature: (5776, 1024)\t Slide Label: 1\t Slide Patch Label: (5776,)\t\n",
      "Slide Feature: (167, 1024)\t Slide Label: 0\t Slide Patch Label: (167,)\t\n",
      "Slide Feature: (3278, 1024)\t Slide Label: 0\t Slide Patch Label: (3278,)\t\n",
      "Slide Feature: (2099, 1024)\t Slide Label: 0\t Slide Patch Label: (2099,)\t\n",
      "Slide Feature: (2124, 1024)\t Slide Label: 1\t Slide Patch Label: (2124,)\t\n",
      "Slide Feature: (3433, 1024)\t Slide Label: 0\t Slide Patch Label: (3433,)\t\n",
      "Slide Feature: (1174, 1024)\t Slide Label: 1\t Slide Patch Label: (1174,)\t\n",
      "Slide Feature: (3266, 1024)\t Slide Label: 1\t Slide Patch Label: (3266,)\t\n",
      "Slide Feature: (1769, 1024)\t Slide Label: 0\t Slide Patch Label: (1769,)\t\n",
      "Slide Feature: (115, 1024)\t Slide Label: 0\t Slide Patch Label: (115,)\t\n",
      "Slide Feature: (292, 1024)\t Slide Label: 0\t Slide Patch Label: (292,)\t\n",
      "Slide Feature: (1674, 1024)\t Slide Label: 1\t Slide Patch Label: (1674,)\t\n",
      "Slide Feature: (864, 1024)\t Slide Label: 0\t Slide Patch Label: (864,)\t\n",
      "Slide Feature: (4792, 1024)\t Slide Label: 0\t Slide Patch Label: (4792,)\t\n",
      "Slide Feature: (2618, 1024)\t Slide Label: 1\t Slide Patch Label: (2618,)\t\n",
      "Slide Feature: (2756, 1024)\t Slide Label: 0\t Slide Patch Label: (2756,)\t\n",
      "Slide Feature: (3828, 1024)\t Slide Label: 0\t Slide Patch Label: (3828,)\t\n",
      "Slide Feature: (3709, 1024)\t Slide Label: 1\t Slide Patch Label: (3709,)\t\n",
      "Slide Feature: (2830, 1024)\t Slide Label: 0\t Slide Patch Label: (2830,)\t\n",
      "Slide Feature: (3209, 1024)\t Slide Label: 1\t Slide Patch Label: (3209,)\t\n",
      "Slide Feature: (1925, 1024)\t Slide Label: 1\t Slide Patch Label: (1925,)\t\n",
      "Slide Feature: (638, 1024)\t Slide Label: 0\t Slide Patch Label: (638,)\t\n",
      "Slide Feature: (661, 1024)\t Slide Label: 0\t Slide Patch Label: (661,)\t\n",
      "Slide Feature: (992, 1024)\t Slide Label: 0\t Slide Patch Label: (992,)\t\n",
      "Slide Feature: (556, 1024)\t Slide Label: 0\t Slide Patch Label: (556,)\t\n",
      "Slide Feature: (3615, 1024)\t Slide Label: 1\t Slide Patch Label: (3615,)\t\n",
      "Slide Feature: (2525, 1024)\t Slide Label: 1\t Slide Patch Label: (2525,)\t\n",
      "Slide Feature: (3925, 1024)\t Slide Label: 1\t Slide Patch Label: (3925,)\t\n",
      "Slide Feature: (2820, 1024)\t Slide Label: 1\t Slide Patch Label: (2820,)\t\n",
      "Slide Feature: (1858, 1024)\t Slide Label: 0\t Slide Patch Label: (1858,)\t\n",
      "Slide Feature: (2788, 1024)\t Slide Label: 1\t Slide Patch Label: (2788,)\t\n",
      "Slide Feature: (1578, 1024)\t Slide Label: 0\t Slide Patch Label: (1578,)\t\n",
      "Slide Feature: (1248, 1024)\t Slide Label: 1\t Slide Patch Label: (1248,)\t\n",
      "Slide Feature: (2548, 1024)\t Slide Label: 1\t Slide Patch Label: (2548,)\t\n",
      "Slide Feature: (1129, 1024)\t Slide Label: 1\t Slide Patch Label: (1129,)\t\n",
      "Slide Feature: (2158, 1024)\t Slide Label: 0\t Slide Patch Label: (2158,)\t\n",
      "Slide Feature: (3310, 1024)\t Slide Label: 0\t Slide Patch Label: (3310,)\t\n",
      "Slide Feature: (1412, 1024)\t Slide Label: 0\t Slide Patch Label: (1412,)\t\n",
      "Slide Feature: (4477, 1024)\t Slide Label: 1\t Slide Patch Label: (4477,)\t\n",
      "Slide Feature: (961, 1024)\t Slide Label: 0\t Slide Patch Label: (961,)\t\n",
      "Slide Feature: (2866, 1024)\t Slide Label: 0\t Slide Patch Label: (2866,)\t\n",
      "Slide Feature: (1847, 1024)\t Slide Label: 0\t Slide Patch Label: (1847,)\t\n",
      "Slide Feature: (1398, 1024)\t Slide Label: 0\t Slide Patch Label: (1398,)\t\n",
      "Slide Feature: (1715, 1024)\t Slide Label: 1\t Slide Patch Label: (1715,)\t\n",
      "Slide Feature: (3352, 1024)\t Slide Label: 0\t Slide Patch Label: (3352,)\t\n",
      "Slide Feature: (2151, 1024)\t Slide Label: 0\t Slide Patch Label: (2151,)\t\n",
      "Slide Feature: (82, 1024)\t Slide Label: 0\t Slide Patch Label: (82,)\t\n",
      "Slide Feature: (383, 1024)\t Slide Label: 0\t Slide Patch Label: (383,)\t\n",
      "Slide Feature: (1686, 1024)\t Slide Label: 0\t Slide Patch Label: (1686,)\t\n",
      "Slide Feature: (2294, 1024)\t Slide Label: 0\t Slide Patch Label: (2294,)\t\n",
      "Slide Feature: (836, 1024)\t Slide Label: 1\t Slide Patch Label: (836,)\t\n",
      "Slide Feature: (3286, 1024)\t Slide Label: 0\t Slide Patch Label: (3286,)\t\n",
      "Slide Feature: (3142, 1024)\t Slide Label: 0\t Slide Patch Label: (3142,)\t\n",
      "Slide Feature: (3849, 1024)\t Slide Label: 1\t Slide Patch Label: (3849,)\t\n",
      "Slide Feature: (2379, 1024)\t Slide Label: 0\t Slide Patch Label: (2379,)\t\n",
      "Slide Feature: (1339, 1024)\t Slide Label: 0\t Slide Patch Label: (1339,)\t\n",
      "Slide Feature: (3356, 1024)\t Slide Label: 1\t Slide Patch Label: (3356,)\t\n",
      "Slide Feature: (1584, 1024)\t Slide Label: 0\t Slide Patch Label: (1584,)\t\n",
      "Slide Feature: (159, 1024)\t Slide Label: 0\t Slide Patch Label: (159,)\t\n",
      "Slide Feature: (4934, 1024)\t Slide Label: 0\t Slide Patch Label: (4934,)\t\n",
      "Slide Feature: (894, 1024)\t Slide Label: 1\t Slide Patch Label: (894,)\t\n",
      "Slide Feature: (3265, 1024)\t Slide Label: 0\t Slide Patch Label: (3265,)\t\n",
      "Slide Feature: (759, 1024)\t Slide Label: 0\t Slide Patch Label: (759,)\t\n",
      "Slide Feature: (2338, 1024)\t Slide Label: 1\t Slide Patch Label: (2338,)\t\n",
      "Slide Feature: (1952, 1024)\t Slide Label: 1\t Slide Patch Label: (1952,)\t\n",
      "Slide Feature: (3637, 1024)\t Slide Label: 0\t Slide Patch Label: (3637,)\t\n",
      "Slide Feature: (2010, 1024)\t Slide Label: 0\t Slide Patch Label: (2010,)\t\n",
      "Slide Feature: (1028, 1024)\t Slide Label: 1\t Slide Patch Label: (1028,)\t\n",
      "Slide Feature: (1711, 1024)\t Slide Label: 1\t Slide Patch Label: (1711,)\t\n",
      "Slide Feature: (296, 1024)\t Slide Label: 0\t Slide Patch Label: (296,)\t\n",
      "Slide Feature: (4595, 1024)\t Slide Label: 1\t Slide Patch Label: (4595,)\t\n",
      "Slide Feature: (366, 1024)\t Slide Label: 0\t Slide Patch Label: (366,)\t\n",
      "Slide Feature: (1572, 1024)\t Slide Label: 0\t Slide Patch Label: (1572,)\t\n",
      "Slide Feature: (3118, 1024)\t Slide Label: 1\t Slide Patch Label: (3118,)\t\n",
      "Slide Feature: (3186, 1024)\t Slide Label: 1\t Slide Patch Label: (3186,)\t\n",
      "Slide Feature: (939, 1024)\t Slide Label: 1\t Slide Patch Label: (939,)\t\n",
      "Slide Feature: (4768, 1024)\t Slide Label: 0\t Slide Patch Label: (4768,)\t\n",
      "Slide Feature: (6563, 1024)\t Slide Label: 0\t Slide Patch Label: (6563,)\t\n",
      "Slide Feature: (2843, 1024)\t Slide Label: 0\t Slide Patch Label: (2843,)\t\n",
      "Slide Feature: (3173, 1024)\t Slide Label: 1\t Slide Patch Label: (3173,)\t\n",
      "Slide Feature: (76, 1024)\t Slide Label: 0\t Slide Patch Label: (76,)\t\n",
      "Slide Feature: (118, 1024)\t Slide Label: 0\t Slide Patch Label: (118,)\t\n",
      "Slide Feature: (2116, 1024)\t Slide Label: 0\t Slide Patch Label: (2116,)\t\n",
      "Slide Feature: (3735, 1024)\t Slide Label: 0\t Slide Patch Label: (3735,)\t\n",
      "Slide Feature: (4421, 1024)\t Slide Label: 0\t Slide Patch Label: (4421,)\t\n",
      "Slide Feature: (2997, 1024)\t Slide Label: 0\t Slide Patch Label: (2997,)\t\n",
      "Slide Feature: (3115, 1024)\t Slide Label: 0\t Slide Patch Label: (3115,)\t\n",
      "Slide Feature: (2989, 1024)\t Slide Label: 0\t Slide Patch Label: (2989,)\t\n",
      "Slide Feature: (4084, 1024)\t Slide Label: 0\t Slide Patch Label: (4084,)\t\n",
      "Slide Feature: (1353, 1024)\t Slide Label: 0\t Slide Patch Label: (1353,)\t\n",
      "Slide Feature: (2983, 1024)\t Slide Label: 1\t Slide Patch Label: (2983,)\t\n",
      "Slide Feature: (1407, 1024)\t Slide Label: 1\t Slide Patch Label: (1407,)\t\n",
      "Slide Feature: (1207, 1024)\t Slide Label: 0\t Slide Patch Label: (1207,)\t\n",
      "Slide Feature: (3786, 1024)\t Slide Label: 0\t Slide Patch Label: (3786,)\t\n",
      "Slide Feature: (2641, 1024)\t Slide Label: 1\t Slide Patch Label: (2641,)\t\n",
      "Slide Feature: (1426, 1024)\t Slide Label: 0\t Slide Patch Label: (1426,)\t\n",
      "Slide Feature: (2223, 1024)\t Slide Label: 0\t Slide Patch Label: (2223,)\t\n",
      "Slide Feature: (917, 1024)\t Slide Label: 1\t Slide Patch Label: (917,)\t\n",
      "Slide Feature: (2043, 1024)\t Slide Label: 0\t Slide Patch Label: (2043,)\t\n",
      "Slide Feature: (3294, 1024)\t Slide Label: 0\t Slide Patch Label: (3294,)\t\n",
      "Slide Feature: (4411, 1024)\t Slide Label: 0\t Slide Patch Label: (4411,)\t\n",
      "Slide Feature: (2129, 1024)\t Slide Label: 0\t Slide Patch Label: (2129,)\t\n",
      "Slide Feature: (1943, 1024)\t Slide Label: 1\t Slide Patch Label: (1943,)\t\n",
      "Slide Feature: (1689, 1024)\t Slide Label: 0\t Slide Patch Label: (1689,)\t\n",
      "Slide Feature: (1710, 1024)\t Slide Label: 0\t Slide Patch Label: (1710,)\t\n",
      "Slide Feature: (1111, 1024)\t Slide Label: 0\t Slide Patch Label: (1111,)\t\n",
      "Slide Feature: (1366, 1024)\t Slide Label: 0\t Slide Patch Label: (1366,)\t\n",
      "Slide Feature: (1589, 1024)\t Slide Label: 1\t Slide Patch Label: (1589,)\t\n",
      "Slide Feature: (2031, 1024)\t Slide Label: 1\t Slide Patch Label: (2031,)\t\n",
      "Slide Feature: (1894, 1024)\t Slide Label: 0\t Slide Patch Label: (1894,)\t\n",
      "Slide Feature: (2440, 1024)\t Slide Label: 0\t Slide Patch Label: (2440,)\t\n",
      "Slide Feature: (3355, 1024)\t Slide Label: 1\t Slide Patch Label: (3355,)\t\n",
      "Slide Feature: (3958, 1024)\t Slide Label: 0\t Slide Patch Label: (3958,)\t\n",
      "Slide Feature: (2149, 1024)\t Slide Label: 1\t Slide Patch Label: (2149,)\t\n",
      "Slide Feature: (2311, 1024)\t Slide Label: 1\t Slide Patch Label: (2311,)\t\n",
      "Slide Feature: (2603, 1024)\t Slide Label: 0\t Slide Patch Label: (2603,)\t\n",
      "Slide Feature: (2755, 1024)\t Slide Label: 1\t Slide Patch Label: (2755,)\t\n",
      "Slide Feature: (2011, 1024)\t Slide Label: 0\t Slide Patch Label: (2011,)\t\n",
      "Slide Feature: (2439, 1024)\t Slide Label: 1\t Slide Patch Label: (2439,)\t\n",
      "Slide Feature: (2858, 1024)\t Slide Label: 0\t Slide Patch Label: (2858,)\t\n",
      "Slide Feature: (3449, 1024)\t Slide Label: 1\t Slide Patch Label: (3449,)\t\n",
      "Slide Feature: (1133, 1024)\t Slide Label: 0\t Slide Patch Label: (1133,)\t\n",
      "Slide Feature: (86, 1024)\t Slide Label: 0\t Slide Patch Label: (86,)\t\n",
      "Slide Feature: (5609, 1024)\t Slide Label: 0\t Slide Patch Label: (5609,)\t\n",
      "Slide Feature: (2329, 1024)\t Slide Label: 0\t Slide Patch Label: (2329,)\t\n",
      "Slide Feature: (463, 1024)\t Slide Label: 0\t Slide Patch Label: (463,)\t\n",
      "Slide Feature: (1749, 1024)\t Slide Label: 1\t Slide Patch Label: (1749,)\t\n",
      "Slide Feature: (1421, 1024)\t Slide Label: 1\t Slide Patch Label: (1421,)\t\n",
      "Slide Feature: (4422, 1024)\t Slide Label: 0\t Slide Patch Label: (4422,)\t\n",
      "Slide Feature: (4232, 1024)\t Slide Label: 1\t Slide Patch Label: (4232,)\t\n",
      "Slide Feature: (3073, 1024)\t Slide Label: 0\t Slide Patch Label: (3073,)\t\n",
      "Slide Feature: (1144, 1024)\t Slide Label: 1\t Slide Patch Label: (1144,)\t\n",
      "Slide Feature: (2958, 1024)\t Slide Label: 1\t Slide Patch Label: (2958,)\t\n",
      "Slide Feature: (1099, 1024)\t Slide Label: 0\t Slide Patch Label: (1099,)\t\n",
      "Slide Feature: (3402, 1024)\t Slide Label: 1\t Slide Patch Label: (3402,)\t\n",
      "Slide Feature: (2562, 1024)\t Slide Label: 1\t Slide Patch Label: (2562,)\t\n",
      "Slide Feature: (3065, 1024)\t Slide Label: 0\t Slide Patch Label: (3065,)\t\n",
      "Slide Feature: (1753, 1024)\t Slide Label: 0\t Slide Patch Label: (1753,)\t\n",
      "Slide Feature: (1979, 1024)\t Slide Label: 0\t Slide Patch Label: (1979,)\t\n",
      "Slide Feature: (4211, 1024)\t Slide Label: 0\t Slide Patch Label: (4211,)\t\n",
      "Slide Feature: (2993, 1024)\t Slide Label: 0\t Slide Patch Label: (2993,)\t\n",
      "Slide Feature: (1297, 1024)\t Slide Label: 0\t Slide Patch Label: (1297,)\t\n",
      "Slide Feature: (2400, 1024)\t Slide Label: 1\t Slide Patch Label: (2400,)\t\n",
      "Slide Feature: (2838, 1024)\t Slide Label: 1\t Slide Patch Label: (2838,)\t\n",
      "Slide Feature: (1286, 1024)\t Slide Label: 1\t Slide Patch Label: (1286,)\t\n",
      "Slide Feature: (3843, 1024)\t Slide Label: 0\t Slide Patch Label: (3843,)\t\n",
      "Slide Feature: (442, 1024)\t Slide Label: 0\t Slide Patch Label: (442,)\t\n",
      "Slide Feature: (2561, 1024)\t Slide Label: 1\t Slide Patch Label: (2561,)\t\n",
      "Slide Feature: (1227, 1024)\t Slide Label: 0\t Slide Patch Label: (1227,)\t\n",
      "Slide Feature: (544, 1024)\t Slide Label: 0\t Slide Patch Label: (544,)\t\n",
      "Slide Feature: (1686, 1024)\t Slide Label: 0\t Slide Patch Label: (1686,)\t\n",
      "Slide Feature: (3607, 1024)\t Slide Label: 0\t Slide Patch Label: (3607,)\t\n",
      "Slide Feature: (739, 1024)\t Slide Label: 1\t Slide Patch Label: (739,)\t\n",
      "Slide Feature: (845, 1024)\t Slide Label: 0\t Slide Patch Label: (845,)\t\n",
      "Slide Feature: (3281, 1024)\t Slide Label: 0\t Slide Patch Label: (3281,)\t\n",
      "Slide Feature: (2330, 1024)\t Slide Label: 1\t Slide Patch Label: (2330,)\t\n",
      "Slide Feature: (6615, 1024)\t Slide Label: 0\t Slide Patch Label: (6615,)\t\n",
      "Slide Feature: (3178, 1024)\t Slide Label: 0\t Slide Patch Label: (3178,)\t\n",
      "Slide Feature: (8678, 1024)\t Slide Label: 1\t Slide Patch Label: (8678,)\t\n",
      "Slide Feature: (1359, 1024)\t Slide Label: 0\t Slide Patch Label: (1359,)\t\n",
      "Slide Feature: (2484, 1024)\t Slide Label: 1\t Slide Patch Label: (2484,)\t\n",
      "Slide Feature: (2545, 1024)\t Slide Label: 1\t Slide Patch Label: (2545,)\t\n",
      "Slide Feature: (52, 1024)\t Slide Label: 0\t Slide Patch Label: (52,)\t\n",
      "Slide Feature: (1086, 1024)\t Slide Label: 0\t Slide Patch Label: (1086,)\t\n",
      "Slide Feature: (455, 1024)\t Slide Label: 0\t Slide Patch Label: (455,)\t\n",
      "Slide Feature: (1463, 1024)\t Slide Label: 0\t Slide Patch Label: (1463,)\t\n",
      "Slide Feature: (1125, 1024)\t Slide Label: 1\t Slide Patch Label: (1125,)\t\n",
      "Slide Feature: (1542, 1024)\t Slide Label: 0\t Slide Patch Label: (1542,)\t\n",
      "Slide Feature: (4003, 1024)\t Slide Label: 1\t Slide Patch Label: (4003,)\t\n",
      "Slide Feature: (3119, 1024)\t Slide Label: 0\t Slide Patch Label: (3119,)\t\n",
      "Slide Feature: (2184, 1024)\t Slide Label: 1\t Slide Patch Label: (2184,)\t\n",
      "Slide Feature: (5134, 1024)\t Slide Label: 0\t Slide Patch Label: (5134,)\t\n",
      "Slide Feature: (2137, 1024)\t Slide Label: 0\t Slide Patch Label: (2137,)\t\n",
      "Slide Feature: (1457, 1024)\t Slide Label: 0\t Slide Patch Label: (1457,)\t\n",
      "Slide Feature: (1687, 1024)\t Slide Label: 1\t Slide Patch Label: (1687,)\t\n",
      "Slide Feature: (629, 1024)\t Slide Label: 0\t Slide Patch Label: (629,)\t\n",
      "Slide Feature: (1930, 1024)\t Slide Label: 0\t Slide Patch Label: (1930,)\t\n",
      "Slide Feature: (1567, 1024)\t Slide Label: 0\t Slide Patch Label: (1567,)\t\n",
      "Slide Feature: (3556, 1024)\t Slide Label: 0\t Slide Patch Label: (3556,)\t\n",
      "Slide Feature: (3744, 1024)\t Slide Label: 0\t Slide Patch Label: (3744,)\t\n",
      "Slide Feature: (3958, 1024)\t Slide Label: 1\t Slide Patch Label: (3958,)\t\n",
      "Slide Feature: (1663, 1024)\t Slide Label: 0\t Slide Patch Label: (1663,)\t\n",
      "Slide Feature: (1623, 1024)\t Slide Label: 0\t Slide Patch Label: (1623,)\t\n",
      "Slide Feature: (949, 1024)\t Slide Label: 1\t Slide Patch Label: (949,)\t\n",
      "Slide Feature: (3734, 1024)\t Slide Label: 0\t Slide Patch Label: (3734,)\t\n",
      "Slide Feature: (6756, 1024)\t Slide Label: 0\t Slide Patch Label: (6756,)\t\n",
      "Slide Feature: (1223, 1024)\t Slide Label: 0\t Slide Patch Label: (1223,)\t\n",
      "Slide Feature: (4092, 1024)\t Slide Label: 1\t Slide Patch Label: (4092,)\t\n",
      "Slide Feature: (387, 1024)\t Slide Label: 0\t Slide Patch Label: (387,)\t\n",
      "Slide Feature: (309, 1024)\t Slide Label: 0\t Slide Patch Label: (309,)\t\n",
      "Slide Feature: (40, 1024)\t Slide Label: 0\t Slide Patch Label: (40,)\t\n",
      "Slide Feature: (2061, 1024)\t Slide Label: 1\t Slide Patch Label: (2061,)\t\n",
      "Slide Feature: (134, 1024)\t Slide Label: 0\t Slide Patch Label: (134,)\t\n"
     ]
    }
   ],
   "source": [
    "print(len(slide_feat_all), len(slide_label_all), len(slide_patch_label_all))\n",
    "for f, l, pl in zip(slide_feat_all, slide_label_all, slide_patch_label_all):\n",
    "    print(f\"Slide Feature: {f.shape}\\t Slide Label: {l}\\t Slide Patch Label: {pl.shape}\\t\")"
   ]
  },
  {
   "cell_type": "code",
   "execution_count": 4,
   "metadata": {},
   "outputs": [
    {
     "data": {
      "text/plain": [
       "(3209, 1024)"
      ]
     },
     "execution_count": 4,
     "metadata": {},
     "output_type": "execute_result"
    }
   ],
   "source": [
    "slide_feat_all[77].shape"
   ]
  },
  {
   "cell_type": "code",
   "execution_count": 5,
   "metadata": {},
   "outputs": [],
   "source": [
    "from sklearn_extra.cluster import KMedoids\n",
    "\n",
    "feat = slide_feat_all[77]\n",
    "\n",
    "k_medoids = KMedoids(n_clusters=16, init='k-medoids++').fit(feat)"
   ]
  },
  {
   "cell_type": "code",
   "execution_count": 6,
   "metadata": {},
   "outputs": [
    {
     "data": {
      "text/plain": [
       "array([2067, 2392, 1401, 1854, 1329, 2455, 3016, 1657, 2507, 1794,  188,\n",
       "        772,  815,  449, 1717, 2135])"
      ]
     },
     "execution_count": 6,
     "metadata": {},
     "output_type": "execute_result"
    }
   ],
   "source": [
    "k_medoids.medoid_indices_"
   ]
  },
  {
   "cell_type": "code",
   "execution_count": 18,
   "metadata": {},
   "outputs": [],
   "source": [
    "idx = np.arange(slide_patch_label_all[77].shape[0])"
   ]
  },
  {
   "cell_type": "code",
   "execution_count": 19,
   "metadata": {},
   "outputs": [
    {
     "data": {
      "text/plain": [
       "array([2067, 2392, 1401, 1854, 1329, 2455, 3016, 1657, 2507, 1794,  188,\n",
       "        772,  815,  449, 1717, 2135])"
      ]
     },
     "execution_count": 19,
     "metadata": {},
     "output_type": "execute_result"
    }
   ],
   "source": [
    "idx[k_medoids.medoid_indices_]"
   ]
  },
  {
   "cell_type": "code",
   "execution_count": 13,
   "metadata": {},
   "outputs": [
    {
     "data": {
      "text/plain": [
       "(3209,)"
      ]
     },
     "execution_count": 13,
     "metadata": {},
     "output_type": "execute_result"
    }
   ],
   "source": [
    "slide_patch_label_all[77].shape"
   ]
  },
  {
   "cell_type": "code",
   "execution_count": 9,
   "metadata": {},
   "outputs": [],
   "source": [
    "all_pos_instance_idx = np.where(slide_patch_label_all[77] == 1)[0]\n",
    "all_neg_instance_idx = np.where(slide_patch_label_all[77] == 0)[0]\n",
    "all_instance_idx = np.concatenate([all_pos_instance_idx, all_neg_instance_idx])"
   ]
  },
  {
   "cell_type": "code",
   "execution_count": 11,
   "metadata": {},
   "outputs": [],
   "source": [
    "all_instance_idx.sort()"
   ]
  },
  {
   "cell_type": "code",
   "execution_count": null,
   "metadata": {},
   "outputs": [
    {
     "data": {
      "text/plain": [
       "True"
      ]
     },
     "execution_count": 17,
     "metadata": {},
     "output_type": "execute_result"
    }
   ],
   "source": [
    "(all_instance_idx == np.arange(slide_patch_label_all[77].shape[0])).all()"
   ]
  },
  {
   "cell_type": "code",
   "execution_count": null,
   "metadata": {},
   "outputs": [
    {
     "data": {
      "text/plain": [
       "array([   0,    1,    2, ..., 3206, 3207, 3208])"
      ]
     },
     "execution_count": 15,
     "metadata": {},
     "output_type": "execute_result"
    }
   ],
   "source": []
  },
  {
   "cell_type": "code",
   "execution_count": 29,
   "metadata": {},
   "outputs": [],
   "source": [
    "import numpy as np\n",
    "\n",
    "def kcenter_greedy(dist_mat, n_query):\n",
    "    \"\"\"K-center greedy sampling in CoreSet.\n",
    "\n",
    "    Args:\n",
    "        dist_mat: distance matrix of the queried embeddings [n_data, n_data]\n",
    "        n_query: number of querying samples\n",
    "    \"\"\"\n",
    "    n_data = dist_mat.shape[0]\n",
    "    init_idx = np.random.randint(n_data)\n",
    "    all_indices = np.arange(n_data)\n",
    "    labeled_indices = np.zeros((n_data, ), dtype=np.bool_)\n",
    "    labeled_indices[init_idx] = True\n",
    "\n",
    "    # sample \n",
    "    for _ in range(n_query-1):\n",
    "        mat = dist_mat[~labeled_indices, :][:, labeled_indices]\n",
    "        mat_min = mat.min(axis=1)\n",
    "        q_idx_ = mat_min.argmax()\n",
    "        q_idx = all_indices[~labeled_indices][q_idx_]\n",
    "        labeled_indices[q_idx] = True\n",
    "    \n",
    "    return all_indices[labeled_indices], all_indices[~labeled_indices]"
   ]
  },
  {
   "cell_type": "code",
   "execution_count": 32,
   "metadata": {},
   "outputs": [
    {
     "data": {
      "text/plain": [
       "(3209, 3209)"
      ]
     },
     "execution_count": 32,
     "metadata": {},
     "output_type": "execute_result"
    }
   ],
   "source": [
    "from sklearn.metrics import pairwise_distances\n",
    "\n",
    "dist_mat = pairwise_distances(feat)\n",
    "dist_mat.shape"
   ]
  },
  {
   "cell_type": "code",
   "execution_count": 30,
   "metadata": {},
   "outputs": [],
   "source": [
    "selected_idx, not_selected_idx = kcenter_greedy(dist_mat, 32)"
   ]
  },
  {
   "cell_type": "code",
   "execution_count": 33,
   "metadata": {},
   "outputs": [
    {
     "data": {
      "text/plain": [
       "array([  52,  137,  185,  234,  426,  442,  453,  567,  721,  903,  935,\n",
       "       1007, 1228, 1251, 1348, 1419, 1602, 1980, 2117, 2277, 2291, 2302,\n",
       "       2350, 2429, 2542, 2562, 2637, 3003, 3009, 3041, 3135, 3147])"
      ]
     },
     "execution_count": 33,
     "metadata": {},
     "output_type": "execute_result"
    }
   ],
   "source": [
    "idx[selected_idx]"
   ]
  }
 ],
 "metadata": {
  "kernelspec": {
   "display_name": "fast",
   "language": "python",
   "name": "python3"
  },
  "language_info": {
   "codemirror_mode": {
    "name": "ipython",
    "version": 3
   },
   "file_extension": ".py",
   "mimetype": "text/x-python",
   "name": "python",
   "nbconvert_exporter": "python",
   "pygments_lexer": "ipython3",
   "version": "3.8.18"
  }
 },
 "nbformat": 4,
 "nbformat_minor": 2
}
